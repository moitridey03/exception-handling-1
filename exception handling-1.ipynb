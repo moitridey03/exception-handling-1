{
 "cells": [
  {
   "cell_type": "markdown",
   "id": "3d29c192-5e79-49f7-9b11-04a6a4fd257c",
   "metadata": {},
   "source": [
    "Q1. What is an Exception in python? Write the difference between Exceptions\n",
    "and syntax errors"
   ]
  },
  {
   "cell_type": "markdown",
   "id": "59d2b10f-85c5-4c93-a093-8d6550a6ad71",
   "metadata": {},
   "source": [
    "In Python, an exception refers to an event that occurs during the execution of a program, which disrupts the normal flow of the program's instructions. When an exceptional condition arises, an object representing the exception is created, and the program's execution is halted. Exception handling in Python allows for the detection and resolution of such conditions, enabling the program to gracefully respond to errors and continue execution or terminate appropriately.\n",
    "\n",
    "The main difference between exceptions and syntax errors lies in their nature and occurrence:\n",
    "\n",
    "Exceptions:\n",
    "\n",
    "Exceptions occur during the execution of a program.\n",
    "They are typically caused by conditions such as invalid input, inappropriate usage of functions or objects, file handling errors, or system-related issues.\n",
    "Examples of exceptions include ZeroDivisionError, TypeError, FileNotFoundError, and IndexError.\n",
    "Exceptions can be caught and handled using try, except, finally, and raise statements, allowing the program to respond to errors gracefully and continue execution.\n",
    "Syntax Errors:\n",
    "\n",
    "Syntax errors, also known as parsing errors, occur during the parsing of code before execution.\n",
    "They are caused by violations of the language's syntax rules, such as misspelled keywords, missing or misplaced punctuation, or incorrect indentation.\n",
    "Syntax errors prevent the interpreter from compiling or executing the code and must be corrected before the program can run.\n",
    "Common examples of syntax errors include missing colons in control flow statements, mismatched parentheses or brackets, and misspelled variable or function names.\n",
    "In summary, exceptions occur during program execution due to runtime conditions, while syntax errors occur during the parsing of code before execution due to violations of the language's syntax rules. Handling exceptions allows programs to gracefully respond to errors and continue execution, while syntax errors must be corrected before the program can run."
   ]
  },
  {
   "cell_type": "markdown",
   "id": "0a690f8d-deba-4c3c-8ca1-2db9a2a53f31",
   "metadata": {},
   "source": [
    "Q2. What happens when an exception is not handled? Explain with an example"
   ]
  },
  {
   "cell_type": "markdown",
   "id": "18977137-9bac-435f-9968-f87d69112938",
   "metadata": {},
   "source": [
    "When an exception is not handled in a program, it disrupts the normal flow of execution and can lead to unexpected termination of the program. In most programming languages, an unhandled exception causes the program to terminate abruptly, resulting in the termination of any processes or tasks it was performing.\n",
    "\n",
    "Here's an example in Python:"
   ]
  },
  {
   "cell_type": "code",
   "execution_count": 1,
   "id": "fbaa96e1-0719-4ab5-bafa-60dcfffcfc05",
   "metadata": {},
   "outputs": [
    {
     "ename": "ZeroDivisionError",
     "evalue": "division by zero",
     "output_type": "error",
     "traceback": [
      "\u001b[0;31m---------------------------------------------------------------------------\u001b[0m",
      "\u001b[0;31mZeroDivisionError\u001b[0m                         Traceback (most recent call last)",
      "Cell \u001b[0;32mIn[1], line 7\u001b[0m\n\u001b[1;32m      4\u001b[0m numerator \u001b[38;5;241m=\u001b[39m \u001b[38;5;241m10\u001b[39m\n\u001b[1;32m      5\u001b[0m denominator \u001b[38;5;241m=\u001b[39m \u001b[38;5;241m0\u001b[39m\n\u001b[0;32m----> 7\u001b[0m result \u001b[38;5;241m=\u001b[39m \u001b[43mdivide\u001b[49m\u001b[43m(\u001b[49m\u001b[43mnumerator\u001b[49m\u001b[43m,\u001b[49m\u001b[43m \u001b[49m\u001b[43mdenominator\u001b[49m\u001b[43m)\u001b[49m\n\u001b[1;32m      8\u001b[0m \u001b[38;5;28mprint\u001b[39m(\u001b[38;5;124m\"\u001b[39m\u001b[38;5;124mResult:\u001b[39m\u001b[38;5;124m\"\u001b[39m, result)\n",
      "Cell \u001b[0;32mIn[1], line 2\u001b[0m, in \u001b[0;36mdivide\u001b[0;34m(a, b)\u001b[0m\n\u001b[1;32m      1\u001b[0m \u001b[38;5;28;01mdef\u001b[39;00m \u001b[38;5;21mdivide\u001b[39m(a, b):\n\u001b[0;32m----> 2\u001b[0m     \u001b[38;5;28;01mreturn\u001b[39;00m \u001b[43ma\u001b[49m\u001b[43m \u001b[49m\u001b[38;5;241;43m/\u001b[39;49m\u001b[43m \u001b[49m\u001b[43mb\u001b[49m\n",
      "\u001b[0;31mZeroDivisionError\u001b[0m: division by zero"
     ]
    }
   ],
   "source": [
    "def divide(a, b):\n",
    "    return a / b\n",
    "\n",
    "numerator = 10\n",
    "denominator = 0\n",
    "\n",
    "result = divide(numerator, denominator)\n",
    "print(\"Result:\", result)\n"
   ]
  },
  {
   "cell_type": "markdown",
   "id": "a8ff4013-1275-405c-b819-a6a0cf17b0bb",
   "metadata": {},
   "source": [
    "Q3. Which Python statements are used to catch and handle exceptions? Explain with an example"
   ]
  },
  {
   "cell_type": "markdown",
   "id": "e02039a3-d401-475b-9e16-076c5f16c8db",
   "metadata": {},
   "source": [
    "In Python, try and except statements are used to catch and handle exceptions. The try block contains the code where exceptions might occur, and the except block is used to handle these exceptions.\n",
    "\n",
    "Here is an example to illustrate the usage of try and except:"
   ]
  },
  {
   "cell_type": "code",
   "execution_count": 2,
   "id": "db1fc6da-bbe7-4efd-8211-854ee8c16ea1",
   "metadata": {},
   "outputs": [
    {
     "name": "stdin",
     "output_type": "stream",
     "text": [
      "Enter a number:  46\n",
      "Enter another number:  67\n"
     ]
    },
    {
     "name": "stdout",
     "output_type": "stream",
     "text": [
      "Result: 0.6865671641791045\n"
     ]
    }
   ],
   "source": [
    "try:\n",
    "    num1 = int(input(\"Enter a number: \"))\n",
    "    num2 = int(input(\"Enter another number: \"))\n",
    "    result = num1 / num2\n",
    "    print(\"Result:\", result)\n",
    "except ZeroDivisionError:\n",
    "    print(\"Error: Division by zero is not allowed.\")\n",
    "except ValueError:\n",
    "    print(\"Error: Please enter valid numbers.\")\n"
   ]
  },
  {
   "cell_type": "markdown",
   "id": "032b4db9-e55a-469d-98c3-aa3effdb1ae7",
   "metadata": {},
   "source": [
    "In this example:\n",
    "\n",
    "The try block attempts to execute the code where exceptions might occur, such as converting user input to integers and performing division.\n",
    "If any exceptions occur within the try block, Python looks for an appropriate except block to handle it.\n",
    "If a ZeroDivisionError occurs (due to dividing by zero), the corresponding except block is executed, printing an error message.\n",
    "If a ValueError occurs (due to invalid input not being able to be converted to integers), the corresponding except block is executed, printing another error message.\n",
    "By using try and except statements, you can gracefully handle exceptions and prevent your program from crashing due to unforeseen errors."
   ]
  },
  {
   "cell_type": "markdown",
   "id": "ff60cee0-ccb8-4663-9b67-4d51b5b2140c",
   "metadata": {},
   "source": [
    "Q4. Explain with an example:\n",
    "#try and else\n",
    "#finally\n",
    "#raise"
   ]
  },
  {
   "cell_type": "markdown",
   "id": "4e15b251-ef06-4276-9426-b5a79fb4ae11",
   "metadata": {},
   "source": [
    "In Python, the try, except, else, finally, and raise statements are used for error handling and control flow. Here's an explanation with an example:"
   ]
  },
  {
   "cell_type": "code",
   "execution_count": null,
   "id": "86779198-1c01-4b65-a2d3-bbad12d189b4",
   "metadata": {},
   "outputs": [],
   "source": [
    "try:\n",
    "    # Code block where an exception might occur\n",
    "    x = int(input(\"Enter a number: \"))\n",
    "    result = 10 / x\n",
    "except ZeroDivisionError:\n",
    "    # Code block to handle specific exceptions\n",
    "    print(\"Cannot divide by zero.\")\n",
    "except ValueError:\n",
    "    # Code block to handle specific exceptions\n",
    "    print(\"Please enter a valid number.\")\n",
    "else:\n",
    "    # Code block executed if no exception occurs\n",
    "    print(\"Division result:\", result)\n",
    "finally:\n",
    "    # Code block that always executes, regardless of whether an exception occurs\n",
    "    print(\"Execution completed.\")\n",
    "\n",
    "# Example of raising a custom exception\n",
    "if x == 0:\n",
    "    raise ValueError(\"Cannot use zero as a divisor.\")\n"
   ]
  },
  {
   "cell_type": "markdown",
   "id": "ea6ba8f1-583e-4c28-9e1d-047b2faa9abf",
   "metadata": {},
   "source": [
    "In this example:\n",
    "\n",
    "The try block attempts to execute the code where exceptions might occur, such as converting user input to integers and performing division.\n",
    "If any exceptions occur within the try block, Python looks for an appropriate except block to handle it.\n",
    "If a ZeroDivisionError occurs (due to dividing by zero), the corresponding except block is executed, printing an error message.\n",
    "If a ValueError occurs (due to invalid input not being able to be converted to integers), the corresponding except block is executed, printing another error message.\n",
    "By using try and except statements, you can gracefully handle exceptions and prevent your program from crashing due to unforeseen errors.\n",
    "\n",
    "\n",
    "\n",
    "\n"
   ]
  },
  {
   "cell_type": "markdown",
   "id": "571b67d0-d66f-4a87-a199-581110866144",
   "metadata": {},
   "source": [
    "Q5. What are custom exception in python.why do we need custom exceptions.explain with an example."
   ]
  },
  {
   "cell_type": "markdown",
   "id": "3f5531d5-e933-4993-89e4-bb3b5ed70b26",
   "metadata": {},
   "source": [
    "In Python, custom exceptions are user-defined exceptions that allow programmers to create specific error types tailored to their applications' requirements. These exceptions extend the base Exception class or one of its subclasses to provide customized behavior when an exceptional condition occurs within a program.\n",
    "\n",
    "Custom exceptions are valuable for several reasons:\n",
    "\n",
    "Clarity and Readability: By defining custom exceptions, developers can provide more descriptive error messages, enhancing code readability and making it easier to identify and debug issues.\n",
    "\n",
    "Granular Error Handling: Custom exceptions enable finer-grained error handling, allowing different types of errors to be handled in distinct ways within the application logic.\n",
    "\n",
    "Modularity and Reusability: Custom exceptions promote modularity and code reuse by encapsulating error-handling logic into reusable components that can be shared across multiple parts of the codebase.\n",
    "\n",
    "Domain-Specific Error Handling: In domain-specific applications, custom exceptions can represent specific error scenarios relevant to the application's domain, facilitating more meaningful error reporting and handling.\n",
    "\n",
    "Here's an example illustrating the creation and usage of a custom exception in Python:\n",
    "\n",
    "python\n",
    "Copy code\n",
    "class InsufficientFundsError(Exception):\n",
    "    \"\"\"Exception raised when an attempt is made to withdraw more money than available.\"\"\"\n",
    "    def __init__(self, balance, amount):\n",
    "        self.balance = balance\n",
    "        self.amount = amount\n",
    "        super().__init__(f\"Insufficient funds: Available balance is {balance}, but attempted to withdraw {amount}.\")\n",
    "\n",
    "class BankAccount:\n",
    "    def __init__(self, balance):\n",
    "        self.balance = balance\n",
    "\n",
    "    def withdraw(self, amount):\n",
    "        if amount > self.balance:\n",
    "            raise InsufficientFundsError(self.balance, amount)\n",
    "        self.balance -= amount\n",
    "        return self.balance\n",
    "\n",
    "# Example usage\n",
    "account_balance = 1000\n",
    "account = BankAccount(account_balance)\n",
    "\n",
    "try:\n",
    "    withdrawal_amount = 1500\n",
    "    remaining_balance = account.withdraw(withdrawal_amount)\n",
    "    print(f\"Withdrawal successful. Remaining balance: {remaining_balance}\")\n",
    "except InsufficientFundsError as e:\n",
    "    print(e)\n",
    "In this example, a BankAccount class is defined, along with a custom exception InsufficientFundsError. When attempting to withdraw an amount exceeding the available balance, an InsufficientFundsError is raised with a descriptive error message indicating the available balance and the attempted withdrawal amount. This facilitates clear and precise error reporting, aiding in the identification and resolution of issues within the program.\n",
    "\n",
    "\n",
    "\n",
    "\n"
   ]
  },
  {
   "cell_type": "markdown",
   "id": "6eed6991-c938-42ad-a310-9fca9d411cf3",
   "metadata": {},
   "source": [
    "Q6. Create a custom exception class.use this class to handle an exception."
   ]
  },
  {
   "cell_type": "markdown",
   "id": "d714e31c-81f9-4986-b622-dc30e0d27307",
   "metadata": {},
   "source": [
    "To create a custom exception class in Python, you can subclass the built-in Exception class. This allows you to define your own exception with specific behavior and attributes tailored to your application's needs. Here's an example of how to create a custom exception class and use it to handle an exception:"
   ]
  },
  {
   "cell_type": "code",
   "execution_count": null,
   "id": "83688f38-c33d-4459-8e1b-e6dc4d1db418",
   "metadata": {},
   "outputs": [],
   "source": [
    "class CustomException(Exception):\n",
    "    def __init__(self, message):\n",
    "        super().__init__(message)\n",
    "        self.message = message\n",
    "\n",
    "def example_function(x):\n",
    "    if x < 0:\n",
    "        raise CustomException(\"Input value must be non-negative\")\n",
    "\n",
    "try:\n",
    "    example_function(-5)\n",
    "except CustomException as e:\n",
    "    print(\"Custom exception caught:\", e.message)\n"
   ]
  },
  {
   "cell_type": "code",
   "execution_count": null,
   "id": "5be089c3-6300-4eb4-9cfc-bd6ba3a511b8",
   "metadata": {},
   "outputs": [],
   "source": []
  }
 ],
 "metadata": {
  "kernelspec": {
   "display_name": "Python 3 (ipykernel)",
   "language": "python",
   "name": "python3"
  },
  "language_info": {
   "codemirror_mode": {
    "name": "ipython",
    "version": 3
   },
   "file_extension": ".py",
   "mimetype": "text/x-python",
   "name": "python",
   "nbconvert_exporter": "python",
   "pygments_lexer": "ipython3",
   "version": "3.10.8"
  }
 },
 "nbformat": 4,
 "nbformat_minor": 5
}
